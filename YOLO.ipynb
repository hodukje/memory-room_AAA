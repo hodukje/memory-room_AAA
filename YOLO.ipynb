{
  "nbformat": 4,
  "nbformat_minor": 0,
  "metadata": {
    "colab": {
      "name": "YOLO.ipynb",
      "provenance": [],
      "private_outputs": true,
      "collapsed_sections": [],
      "include_colab_link": true
    },
    "kernelspec": {
      "name": "python3",
      "display_name": "Python 3"
    }
  },
  "cells": [
    {
      "cell_type": "markdown",
      "metadata": {
        "id": "view-in-github",
        "colab_type": "text"
      },
      "source": [
        "<a href=\"https://colab.research.google.com/github/hodukje/memory-room_AAA/blob/master/YOLO.ipynb\" target=\"_parent\"><img src=\"https://colab.research.google.com/assets/colab-badge.svg\" alt=\"Open In Colab\"/></a>"
      ]
    },
    {
      "cell_type": "code",
      "metadata": {
        "id": "xJ_QJAB_MvOj",
        "colab_type": "code",
        "colab": {}
      },
      "source": [
        "#깃 darknet 가져오기 \n",
        "%cd /content\n",
        "!rm -rf darknet\n",
        "!git clone https://github.com/pjreddie/darknet"
      ],
      "execution_count": 0,
      "outputs": []
    },
    {
      "cell_type": "code",
      "metadata": {
        "id": "g8gKMBewM-Pi",
        "colab_type": "code",
        "colab": {}
      },
      "source": [
        "#빌드\n",
        "%cd /content/darknet\n",
        "!make\n",
        "\n",
        "#빌드된 실행파일 확인\n",
        "!ls -al darknet\n",
        "\n",
        "#빌드 확인하기\n",
        "!./darknet"
      ],
      "execution_count": 0,
      "outputs": []
    },
    {
      "cell_type": "code",
      "metadata": {
        "id": "TQFjTCh2OcAo",
        "colab_type": "code",
        "colab": {}
      },
      "source": [
        "##학습된 모델 파일 다운로드##"
      ],
      "execution_count": 0,
      "outputs": []
    },
    {
      "cell_type": "code",
      "metadata": {
        "id": "7WzKRKtEOqQj",
        "colab_type": "code",
        "colab": {}
      },
      "source": [
        "%cd /content/darknet\n",
        "!wget wget https://pjreddie.com/media/files/yolov3.weights"
      ],
      "execution_count": 0,
      "outputs": []
    },
    {
      "cell_type": "code",
      "metadata": {
        "id": "MPxdioB7O4xk",
        "colab_type": "code",
        "colab": {}
      },
      "source": [
        "#darknet으로 물체 탐지 실행\n",
        "%cd /content/darknet\n",
        "!./darknet detect cfg/yolov3.cfg yolov3.weights data/dog.jpg\n",
        "\n",
        "from IPython.display import Image\n",
        "Image('predictions.jpg')"
      ],
      "execution_count": 0,
      "outputs": []
    },
    {
      "cell_type": "code",
      "metadata": {
        "id": "7-h51zzlPc-d",
        "colab_type": "code",
        "colab": {}
      },
      "source": [
        "##python keras로 물체 yolo 탐지 실행\n",
        "##keras 변환 코드 다운로드\n",
        "\n",
        "##다운로드\n",
        "\n",
        "%cd /content\n",
        "!rm -rf keras-yolo3\n",
        "\n",
        "!git clone https://github.com/qqwweee/keras-yolo3\n",
        "\n",
        "#다운로드된 디렉토리로 이동 \n",
        "%cd keras-yolo3\n",
        "\n",
        "#내용 확인\n",
        "!pwd\n",
        "!ls -al\n",
        "\n"
      ],
      "execution_count": 0,
      "outputs": []
    },
    {
      "cell_type": "code",
      "metadata": {
        "id": "kcy1kGgggYpb",
        "colab_type": "code",
        "colab": {}
      },
      "source": [
        "##yolo3 모델 파일 카피\n",
        "%cd /content/keras-yolo3/\n",
        "\n",
        "!cp /content/darknet/yolov3.weights ./\n",
        "!ls -al yolov3.weights"
      ],
      "execution_count": 0,
      "outputs": []
    },
    {
      "cell_type": "code",
      "metadata": {
        "id": "9i2Rwe8jg00k",
        "colab_type": "code",
        "colab": {}
      },
      "source": [
        "##모델 파일 변환\n",
        "!head -40 yolov3.cfg"
      ],
      "execution_count": 0,
      "outputs": []
    },
    {
      "cell_type": "code",
      "metadata": {
        "id": "ctHAqX41hDhC",
        "colab_type": "code",
        "colab": {}
      },
      "source": [
        "#실행하기 전 기존 것이 있다면 삭제\n",
        "!rm -rf yolov3.h5\n",
        "\n",
        "#실행\n",
        "%run convert.py yolov3.cfg yolov3.weights yolov3.h5"
      ],
      "execution_count": 0,
      "outputs": []
    },
    {
      "cell_type": "code",
      "metadata": {
        "id": "79GZBzcchdeA",
        "colab_type": "code",
        "colab": {}
      },
      "source": [
        "##모델 구조 이해하기\n",
        "from keras.models import load_model\n",
        "from keras.utils.vis_utils import plot_model\n",
        "\n",
        "#모델 파일 로딩하기\n",
        "model = load_model('yolov3.h5')\n",
        "\n",
        "#구조를 이미지로 저장하기\n",
        "plot_model(model, show_shapes = True, to_file = 'yolo3_structure.png')\n",
        "\n",
        "from IPython.display import Image\n",
        "Image('yolo3_structure.png')"
      ],
      "execution_count": 0,
      "outputs": []
    },
    {
      "cell_type": "code",
      "metadata": {
        "id": "pt9_wekopXRd",
        "colab_type": "code",
        "colab": {}
      },
      "source": [
        "##탐지 대상 이미지 다운로드\n",
        "##jpg 파일 웹에 있는 이미지 다운로드 \n",
        "\n",
        "!wget -O street_view.jpg http://beltlineorg-wpengine.netdna-ssl.com/wp-content/uploads/2012/12/IMG_5669-flickr-websized.jpg\n",
        "\n",
        "from IPython.display import Image, display\n",
        "display(Image(filename = 'street_view.jpg'))"
      ],
      "execution_count": 0,
      "outputs": []
    },
    {
      "cell_type": "code",
      "metadata": {
        "id": "BZ-wcVsDwRYd",
        "colab_type": "code",
        "colab": {}
      },
      "source": [
        "##물체 탐지 실행 \n",
        "##다음의 파일이 필요하다 \n",
        "##keras 코드로 실행하기\n",
        "\n",
        "##darknet은 coco라는 데이터셋에서 학습이 된다."
      ],
      "execution_count": 0,
      "outputs": []
    },
    {
      "cell_type": "code",
      "metadata": {
        "id": "49CPbLOpx2WQ",
        "colab_type": "code",
        "colab": {}
      },
      "source": [
        "!cat model_data/coco_classes.txt"
      ],
      "execution_count": 0,
      "outputs": []
    },
    {
      "cell_type": "code",
      "metadata": {
        "id": "lPBiAqi2x6Zk",
        "colab_type": "code",
        "colab": {}
      },
      "source": [
        "from IPython.display import display\n",
        "from PIL import Image\n",
        "from yolo import YOLO\n",
        "\n",
        "def do_object_detection(file, model_path, class_path):\n",
        "  yolo = YOLO(model_path = model_path , classes_path = class_path)\n",
        "\n",
        "  #이미지를 로딩\n",
        "  image = Image.open(file)\n",
        "\n",
        "  #실행하기\n",
        "  result_image = yolo.detect_image(image)\n",
        "\n",
        "  #실행 결과 표시하기\n",
        "  display(result_image)"
      ],
      "execution_count": 0,
      "outputs": []
    },
    {
      "cell_type": "code",
      "metadata": {
        "id": "k_aayPhgy0mp",
        "colab_type": "code",
        "colab": {}
      },
      "source": [
        "do_object_detection('street_view.jpg', 'yolov3.h5', 'model_data/coco_classes.txt')"
      ],
      "execution_count": 0,
      "outputs": []
    },
    {
      "cell_type": "code",
      "metadata": {
        "id": "Of0IsZmjVt75",
        "colab_type": "code",
        "colab": {}
      },
      "source": [
        "##커스텀 데이터 적용하기"
      ],
      "execution_count": 0,
      "outputs": []
    },
    {
      "cell_type": "code",
      "metadata": {
        "id": "KdnFemyJaJ8Z",
        "colab_type": "code",
        "colab": {}
      },
      "source": [
        ""
      ],
      "execution_count": 0,
      "outputs": []
    },
    {
      "cell_type": "code",
      "metadata": {
        "id": "2w76d_MgZfo-",
        "colab_type": "code",
        "colab": {}
      },
      "source": [
        "##커스텀 데이터 업로드\n",
        "\n",
        "%cd /content/keras-yolo3/\n",
        "\n",
        "from google.colab import files\n",
        "#파일이름 dental_image_in_voc_format.tar.gz\n",
        "\n",
        "#files.upload('파일이름')입력하기\n",
        "uploaded = files.upload()\n",
        "\n",
        "!ls -al"
      ],
      "execution_count": 0,
      "outputs": []
    },
    {
      "cell_type": "code",
      "metadata": {
        "id": "2cgUpXZ3akk5",
        "colab_type": "code",
        "colab": {}
      },
      "source": [
        "git clone https://github.com/tzutalin/labelImg"
      ],
      "execution_count": 0,
      "outputs": []
    },
    {
      "cell_type": "code",
      "metadata": {
        "id": "_lji-ssibFRL",
        "colab_type": "code",
        "colab": {}
      },
      "source": [
        ""
      ],
      "execution_count": 0,
      "outputs": []
    }
  ]
}